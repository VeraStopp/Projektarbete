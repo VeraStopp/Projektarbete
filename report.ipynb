{
 "cells": [
  {
   "cell_type": "code",
   "execution_count": 2,
   "id": "25374f38",
   "metadata": {},
   "outputs": [],
   "source": [
    "from src.io_utils import load_data\n",
    "from src.metrics import calculating_revenue_city, calculate_category_rev, calculate_average_order_value, calculate_total_revenue, calculate_total_units\n",
    "\n",
    "df = load_data(\"data/ecommerce_sales.csv\")\n"
   ]
  },
  {
   "cell_type": "markdown",
   "id": "03adfab6",
   "metadata": {},
   "source": [
    "# Intäkt per stad"
   ]
  },
  {
   "cell_type": "code",
   "execution_count": 3,
   "id": "3145c71c",
   "metadata": {},
   "outputs": [
    {
     "name": "stdout",
     "output_type": "stream",
     "text": [
      "Summering av städer\n",
      "        city  antal_ordrar  medelvärde_vinst  median_vinst    std_vinst\n",
      "0   Göteborg           586       1465.903840      1146.315  1200.832436\n",
      "1      Malmö           396       1434.157374      1074.655  1186.505984\n",
      "2  Stockholm           899       1365.074461      1080.390  1118.885719\n",
      "3    Uppsala           381       1447.449921      1118.100  1248.013748\n",
      "4   Västerås           238       1248.491176       980.360  1080.891927\n",
      "\n",
      "Topplista\n",
      "        city     revenue\n",
      "0  Stockholm  1227201.94\n",
      "1   Göteborg   859019.65\n",
      "2      Malmö   567926.32\n",
      "3    Uppsala   551478.42\n",
      "4   Västerås   297140.90\n"
     ]
    }
   ],
   "source": [
    "summary_cities = (df.groupby(\"city\")\n",
    "                    .agg(\n",
    "                        antal_ordrar = (\"city\", \"count\"),\n",
    "                        medelvärde_vinst = (\"revenue\", \"mean\"),\n",
    "                        median_vinst = (\"revenue\", \"median\"),\n",
    "                        std_vinst = (\"revenue\", \"std\")\n",
    "                    ).reset_index())\n",
    "revenue_city = calculating_revenue_city(df)\n",
    "\n",
    "print(\"Summering av städer\")\n",
    "print(summary_cities)\n",
    "print()\n",
    "print(\"Topplista\")\n",
    "print(revenue_city)"
   ]
  },
  {
   "cell_type": "markdown",
   "id": "d29c2b2e",
   "metadata": {},
   "source": [
    "# Intäkt per kategori"
   ]
  },
  {
   "cell_type": "code",
   "execution_count": 5,
   "id": "f4c03550",
   "metadata": {},
   "outputs": [
    {
     "name": "stdout",
     "output_type": "stream",
     "text": [
      "Summering av kategorierna\n",
      "      category  antal_ordrar  medelvärde_vinst  median_vinst    std_vinst\n",
      "0       Beauty           241        676.572490       584.910   482.360925\n",
      "1     Clothing           509       1152.740491      1016.240   765.741562\n",
      "2  Electronics           618       2207.488786      1844.940  1531.683343\n",
      "3         Home           490       1043.001776       897.705   721.206143\n",
      "4       Sports           415       1770.249205      1595.760  1080.907882\n",
      "5         Toys           227        630.026388       533.980   468.674026\n",
      "\n",
      "Topplista\n",
      "      category     revenue\n",
      "0  Electronics  1364228.07\n",
      "1       Sports   734653.42\n",
      "2     Clothing   586744.91\n",
      "3         Home   511070.87\n",
      "4       Beauty   163053.97\n",
      "5         Toys   143015.99\n"
     ]
    }
   ],
   "source": [
    "summary_category = (df.groupby(\"category\")\n",
    "                    .agg(\n",
    "                        antal_ordrar = (\"category\", \"count\"),\n",
    "                        medelvärde_vinst = (\"revenue\", \"mean\"),\n",
    "                        median_vinst = (\"revenue\", \"median\"),\n",
    "                        std_vinst = (\"revenue\", \"std\")\n",
    "                    ).reset_index())\n",
    "category_revenue = calculate_category_rev(df)\n",
    "\n",
    "print(\"Summering av kategorierna\")\n",
    "print(summary_category)\n",
    "print()\n",
    "print(\"Topplista\")\n",
    "print(category_revenue)"
   ]
  },
  {
   "cell_type": "markdown",
   "id": "80eae16c",
   "metadata": {},
   "source": [
    "# Average order value"
   ]
  },
  {
   "cell_type": "code",
   "execution_count": 4,
   "id": "5d1f4b9e",
   "metadata": {},
   "outputs": [
    {
     "name": "stdout",
     "output_type": "stream",
     "text": [
      "1401.1068920000002\n"
     ]
    }
   ],
   "source": [
    "\n",
    "average_order_value, _ = calculate_average_order_value(df)\n",
    "print(average_order_value)"
   ]
  },
  {
   "cell_type": "markdown",
   "id": "5abfb47e",
   "metadata": {},
   "source": [
    "## visualisering_1\n",
    "Intäkt per kategori\n",
    "\n",
    "funktion: calculate_revenue_by_category"
   ]
  },
  {
   "cell_type": "code",
   "execution_count": 6,
   "id": "8eb9d746",
   "metadata": {},
   "outputs": [
    {
     "data": {
      "image/png": "[encoded data removed]",
      "text/plain": [
       "<Figure size 640x480 with 1 Axes>"
      ]
     },
     "metadata": {},
     "output_type": "display_data"
    }
   ],
   "source": [
    "\n",
    "from src.viz import plot_revenue_by_category\n",
    "\n",
    "revenue_by_category = calculate_category_rev(df)\n",
    "plot_revenue_by_category(revenue_by_category)\n",
    "\n"
   ]
  },
  {
   "cell_type": "markdown",
   "id": "19d4317c",
   "metadata": {},
   "source": [
    "# Total intäkt och totalt antal enheter "
   ]
  },
  {
   "cell_type": "code",
   "execution_count": 7,
   "id": "4f38fdc5",
   "metadata": {},
   "outputs": [
    {
     "name": "stdout",
     "output_type": "stream",
     "text": [
      "Total intäkt: 3502767.23 SEK\n",
      "Totalt antal enheter: 7463\n"
     ]
    }
   ],
   "source": [
    "total_rev = calculate_total_revenue(df)\n",
    "total_units = calculate_total_units(df)\n",
    "\n",
    "print(f\"Total intäkt: {total_rev:.2f} SEK\")\n",
    "print(f\"Totalt antal enheter: {total_units}\")"
   ]
  }
 ],
 "metadata": {
  "kernelspec": {
   "display_name": "Python 3",
   "language": "python",
   "name": "python3"
  },
  "language_info": {
   "codemirror_mode": {
    "name": "ipython",
    "version": 3
   },
   "file_extension": ".py",
   "mimetype": "text/x-python",
   "name": "python",
   "nbconvert_exporter": "python",
   "pygments_lexer": "ipython3",
   "version": "3.13.7"
  }
 },
 "nbformat": 4,
 "nbformat_minor": 5
}
