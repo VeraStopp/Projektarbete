{
 "cells": [
  {
   "cell_type": "code",
   "execution_count": null,
   "id": "25374f38",
   "metadata": {},
   "outputs": [],
   "source": [
    "from src.io_utils import load_data\n",
    "from src.metrics import calculating_revenue_city, calculate_category_rev, calculate_average_order_value, calculate_total_revenue, calculate_total_units, summary_city, summary_category\n",
    "from src.ecommerce import EcommerceAnalyzer\n",
    "from src.viz import plot_revenue_by_category\n",
    "\n",
    "df = load_data(\"data/ecommerce_sales.csv\")\n"
   ]
  },
  {
   "cell_type": "markdown",
   "id": "5d4d3063",
   "metadata": {},
   "source": [
    "# Total intäkt och totalt antal enheter "
   ]
  },
  {
   "cell_type": "code",
   "execution_count": null,
   "id": "a5c0658e",
   "metadata": {},
   "outputs": [],
   "source": [
    "total_rev = calculate_total_revenue(df)\n",
    "total_units = calculate_total_units(df)\n",
    "\n",
    "print(f\"Total intäkt: {total_rev:.2f} SEK\")\n",
    "print(f\"Totalt antal enheter: {total_units}\")"
   ]
  },
  {
   "cell_type": "markdown",
   "id": "03adfab6",
   "metadata": {},
   "source": [
    "# Intäkt per stad"
   ]
  },
  {
   "cell_type": "code",
   "execution_count": null,
   "id": "3145c71c",
   "metadata": {},
   "outputs": [],
   "source": [
    "revenue_city = calculating_revenue_city(df)\n",
    "summary_cities = summary_city(df)\n",
    "print(summary_city)\n",
    "\n",
    "print(\"Summering av städer\")\n",
    "print(summary_cities)\n",
    "print()\n",
    "print(\"Topplista\")\n",
    "print(revenue_city)"
   ]
  },
  {
   "cell_type": "markdown",
   "id": "d29c2b2e",
   "metadata": {},
   "source": [
    "# Intäkt per kategori"
   ]
  },
  {
   "cell_type": "code",
   "execution_count": null,
   "id": "f4c03550",
   "metadata": {},
   "outputs": [],
   "source": [
    "summary_categories = summary_category(df)\n",
    "category_revenue = calculate_category_rev(df)\n",
    "\n",
    "print(\"Summering av kategorierna\")\n",
    "print(summary_categories)\n",
    "print()\n",
    "print(\"Topplista\")\n",
    "print(category_revenue)"
   ]
  },
  {
   "cell_type": "markdown",
   "id": "80eae16c",
   "metadata": {},
   "source": [
    "# Average order value"
   ]
  },
  {
   "cell_type": "code",
   "execution_count": null,
   "id": "5d1f4b9e",
   "metadata": {},
   "outputs": [],
   "source": [
    "\n",
    "average_order_value = calculate_average_order_value(df)\n",
    "print(f\"Average order value är {average_order_value:.2f} kr\")"
   ]
  },
  {
   "cell_type": "markdown",
   "id": "5abfb47e",
   "metadata": {},
   "source": [
    "## visualisering_1\n",
    "Intäkt per kategori\n",
    "\n",
    "funktion: calculate_revenue_by_category"
   ]
  },
  {
   "cell_type": "code",
   "execution_count": null,
   "id": "8eb9d746",
   "metadata": {},
   "outputs": [],
   "source": [
    "revenue_by_category = calculate_category_rev(df)\n",
    "plot_revenue_by_category(revenue_by_category)"
   ]
  },
  {
   "cell_type": "markdown",
   "id": "ae7fe9c5",
   "metadata": {},
   "source": [
    "# Använda klassen\n"
   ]
  },
  {
   "cell_type": "code",
   "execution_count": null,
   "id": "660f90e7",
   "metadata": {},
   "outputs": [],
   "source": [
    "data = EcommerceAnalyzer(df)\n",
    "data.show_info()\n",
    "data.total_revenue()\n",
    "data.total_units()\n",
    "data.revenue_category()\n",
    "data.revenue_city()\n",
    "data.average_order_value()"
   ]
  }
 ],
 "metadata": {
  "kernelspec": {
   "display_name": "Python 3",
   "language": "python",
   "name": "python3"
  },
  "language_info": {
   "codemirror_mode": {
    "name": "ipython",
    "version": 3
   },
   "file_extension": ".py",
   "mimetype": "text/x-python",
   "name": "python",
   "nbconvert_exporter": "python",
   "pygments_lexer": "ipython3",
   "version": "3.13.7"
  }
 },
 "nbformat": 4,
 "nbformat_minor": 5
}
