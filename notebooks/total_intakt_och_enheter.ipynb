{
 "cells": [
  {
   "cell_type": "markdown",
   "id": "c9eadd49",
   "metadata": {},
   "source": [
    "# Total intänk och totalt antal enheter"
   ]
  },
  {
   "cell_type": "code",
   "execution_count": 12,
   "id": "757a479f",
   "metadata": {},
   "outputs": [],
   "source": [
    "import sys\n",
    "sys.path.append(\"..\")\n"
   ]
  },
  {
   "cell_type": "code",
   "execution_count": 13,
   "id": "6fe37cf5",
   "metadata": {},
   "outputs": [],
   "source": [
    "df = load_data(\"../data/ecommerce_sales.csv\")\n"
   ]
  },
  {
   "cell_type": "code",
   "execution_count": 17,
   "id": "e91b5b7c",
   "metadata": {},
   "outputs": [
    {
     "data": {
      "text/plain": [
       "(2500, ['order_id', 'date', 'city', 'category', 'price', 'units', 'revenue'])"
      ]
     },
     "execution_count": 17,
     "metadata": {},
     "output_type": "execute_result"
    }
   ],
   "source": [
    "from src.io_utils import load_data\n",
    "from src.metrics import calculate_total_revenue, calculate_total_units\n",
    "\n",
    "df = load_data(\"../data/ecommerce_sales.csv\")\n",
    "len(df), df.columns.tolist()\n"
   ]
  },
  {
   "cell_type": "code",
   "execution_count": 18,
   "id": "a6b9be36",
   "metadata": {},
   "outputs": [
    {
     "name": "stdout",
     "output_type": "stream",
     "text": [
      "Total intäkt: 3502767.23 SEK\n",
      "Totalt antal enheter: 7463\n"
     ]
    }
   ],
   "source": [
    "total_rev = calculate_total_revenue(df)\n",
    "total_units = calculate_total_units(df)\n",
    "\n",
    "print(f\"Total intäkt: {total_rev:.2f} SEK\")\n",
    "print(f\"Totalt antal enheter: {total_units}\")\n"
   ]
  }
 ],
 "metadata": {
  "kernelspec": {
   "display_name": "Python 3",
   "language": "python",
   "name": "python3"
  },
  "language_info": {
   "codemirror_mode": {
    "name": "ipython",
    "version": 3
   },
   "file_extension": ".py",
   "mimetype": "text/x-python",
   "name": "python",
   "nbconvert_exporter": "python",
   "pygments_lexer": "ipython3",
   "version": "3.13.7"
  }
 },
 "nbformat": 4,
 "nbformat_minor": 5
}
